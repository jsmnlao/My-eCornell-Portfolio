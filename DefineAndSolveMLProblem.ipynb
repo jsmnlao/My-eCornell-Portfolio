{
 "cells": [
  {
   "cell_type": "markdown",
   "metadata": {},
   "source": [
    "# Lab 8: Define and Solve an ML Problem of Your Choosing"
   ]
  },
  {
   "cell_type": "code",
   "execution_count": 1,
   "metadata": {},
   "outputs": [],
   "source": [
    "import pandas as pd\n",
    "import numpy as np\n",
    "import os \n",
    "import matplotlib.pyplot as plt\n",
    "import seaborn as sns"
   ]
  },
  {
   "cell_type": "markdown",
   "metadata": {},
   "source": [
    "In this lab assignment, you will follow the machine learning life cycle and implement a model to solve a machine learning problem of your choosing. You will select a data set and choose a predictive problem that the data set supports.  You will then inspect the data with your problem in mind and begin to formulate a  project plan. You will then implement the machine learning project plan. \n",
    "\n",
    "You will complete the following tasks:\n",
    "\n",
    "1. Build Your DataFrame\n",
    "2. Define Your ML Problem\n",
    "3. Perform exploratory data analysis to understand your data.\n",
    "4. Define Your Project Plan\n",
    "5. Implement Your Project Plan:\n",
    "    * Prepare your data for your model.\n",
    "    * Fit your model to the training data and evaluate your model.\n",
    "    * Improve your model's performance."
   ]
  },
  {
   "cell_type": "markdown",
   "metadata": {},
   "source": [
    "## Part 1: Build Your DataFrame\n",
    "\n",
    "You will have the option to choose one of four data sets that you have worked with in this program:\n",
    "\n",
    "* The \"census\" data set that contains Census information from 1994: `censusData.csv`\n",
    "* Airbnb NYC \"listings\" data set: `airbnbListingsData.csv`\n",
    "* World Happiness Report (WHR) data set: `WHR2018Chapter2OnlineData.csv`\n",
    "* Book Review data set: `bookReviewsData.csv`\n",
    "\n",
    "Note that these are variations of the data sets that you have worked with in this program. For example, some do not include some of the preprocessing necessary for specific models. \n",
    "\n",
    "#### Load a Data Set and Save it as a Pandas DataFrame\n",
    "\n",
    "The code cell below contains filenames (path + filename) for each of the four data sets available to you.\n",
    "\n",
    "<b>Task:</b> In the code cell below, use the same method you have been using to load the data using `pd.read_csv()` and save it to DataFrame `df`. \n",
    "\n",
    "You can load each file as a new DataFrame to inspect the data before choosing your data set."
   ]
  },
  {
   "cell_type": "code",
   "execution_count": 2,
   "metadata": {},
   "outputs": [
    {
     "data": {
      "text/html": [
       "<div>\n",
       "<style scoped>\n",
       "    .dataframe tbody tr th:only-of-type {\n",
       "        vertical-align: middle;\n",
       "    }\n",
       "\n",
       "    .dataframe tbody tr th {\n",
       "        vertical-align: top;\n",
       "    }\n",
       "\n",
       "    .dataframe thead th {\n",
       "        text-align: right;\n",
       "    }\n",
       "</style>\n",
       "<table border=\"1\" class=\"dataframe\">\n",
       "  <thead>\n",
       "    <tr style=\"text-align: right;\">\n",
       "      <th></th>\n",
       "      <th>age</th>\n",
       "      <th>workclass</th>\n",
       "      <th>fnlwgt</th>\n",
       "      <th>education</th>\n",
       "      <th>education-num</th>\n",
       "      <th>marital-status</th>\n",
       "      <th>occupation</th>\n",
       "      <th>relationship</th>\n",
       "      <th>race</th>\n",
       "      <th>sex_selfID</th>\n",
       "      <th>capital-gain</th>\n",
       "      <th>capital-loss</th>\n",
       "      <th>hours-per-week</th>\n",
       "      <th>native-country</th>\n",
       "      <th>income_binary</th>\n",
       "    </tr>\n",
       "  </thead>\n",
       "  <tbody>\n",
       "    <tr>\n",
       "      <th>0</th>\n",
       "      <td>39.0</td>\n",
       "      <td>State-gov</td>\n",
       "      <td>77516</td>\n",
       "      <td>Bachelors</td>\n",
       "      <td>13</td>\n",
       "      <td>Never-married</td>\n",
       "      <td>Adm-clerical</td>\n",
       "      <td>Not-in-family</td>\n",
       "      <td>White</td>\n",
       "      <td>Non-Female</td>\n",
       "      <td>2174</td>\n",
       "      <td>0</td>\n",
       "      <td>40.0</td>\n",
       "      <td>United-States</td>\n",
       "      <td>&lt;=50K</td>\n",
       "    </tr>\n",
       "    <tr>\n",
       "      <th>1</th>\n",
       "      <td>50.0</td>\n",
       "      <td>Self-emp-not-inc</td>\n",
       "      <td>83311</td>\n",
       "      <td>Bachelors</td>\n",
       "      <td>13</td>\n",
       "      <td>Married-civ-spouse</td>\n",
       "      <td>Exec-managerial</td>\n",
       "      <td>Husband</td>\n",
       "      <td>White</td>\n",
       "      <td>Non-Female</td>\n",
       "      <td>0</td>\n",
       "      <td>0</td>\n",
       "      <td>13.0</td>\n",
       "      <td>United-States</td>\n",
       "      <td>&lt;=50K</td>\n",
       "    </tr>\n",
       "    <tr>\n",
       "      <th>2</th>\n",
       "      <td>38.0</td>\n",
       "      <td>Private</td>\n",
       "      <td>215646</td>\n",
       "      <td>HS-grad</td>\n",
       "      <td>9</td>\n",
       "      <td>Divorced</td>\n",
       "      <td>Handlers-cleaners</td>\n",
       "      <td>Not-in-family</td>\n",
       "      <td>White</td>\n",
       "      <td>Non-Female</td>\n",
       "      <td>0</td>\n",
       "      <td>0</td>\n",
       "      <td>40.0</td>\n",
       "      <td>United-States</td>\n",
       "      <td>&lt;=50K</td>\n",
       "    </tr>\n",
       "    <tr>\n",
       "      <th>3</th>\n",
       "      <td>53.0</td>\n",
       "      <td>Private</td>\n",
       "      <td>234721</td>\n",
       "      <td>11th</td>\n",
       "      <td>7</td>\n",
       "      <td>Married-civ-spouse</td>\n",
       "      <td>Handlers-cleaners</td>\n",
       "      <td>Husband</td>\n",
       "      <td>Black</td>\n",
       "      <td>Non-Female</td>\n",
       "      <td>0</td>\n",
       "      <td>0</td>\n",
       "      <td>40.0</td>\n",
       "      <td>United-States</td>\n",
       "      <td>&lt;=50K</td>\n",
       "    </tr>\n",
       "    <tr>\n",
       "      <th>4</th>\n",
       "      <td>28.0</td>\n",
       "      <td>Private</td>\n",
       "      <td>338409</td>\n",
       "      <td>Bachelors</td>\n",
       "      <td>13</td>\n",
       "      <td>Married-civ-spouse</td>\n",
       "      <td>Prof-specialty</td>\n",
       "      <td>Wife</td>\n",
       "      <td>Black</td>\n",
       "      <td>Female</td>\n",
       "      <td>0</td>\n",
       "      <td>0</td>\n",
       "      <td>40.0</td>\n",
       "      <td>Cuba</td>\n",
       "      <td>&lt;=50K</td>\n",
       "    </tr>\n",
       "  </tbody>\n",
       "</table>\n",
       "</div>"
      ],
      "text/plain": [
       "    age         workclass  fnlwgt  education  education-num  \\\n",
       "0  39.0         State-gov   77516  Bachelors             13   \n",
       "1  50.0  Self-emp-not-inc   83311  Bachelors             13   \n",
       "2  38.0           Private  215646    HS-grad              9   \n",
       "3  53.0           Private  234721       11th              7   \n",
       "4  28.0           Private  338409  Bachelors             13   \n",
       "\n",
       "       marital-status         occupation   relationship   race  sex_selfID  \\\n",
       "0       Never-married       Adm-clerical  Not-in-family  White  Non-Female   \n",
       "1  Married-civ-spouse    Exec-managerial        Husband  White  Non-Female   \n",
       "2            Divorced  Handlers-cleaners  Not-in-family  White  Non-Female   \n",
       "3  Married-civ-spouse  Handlers-cleaners        Husband  Black  Non-Female   \n",
       "4  Married-civ-spouse     Prof-specialty           Wife  Black      Female   \n",
       "\n",
       "   capital-gain  capital-loss  hours-per-week native-country income_binary  \n",
       "0          2174             0            40.0  United-States         <=50K  \n",
       "1             0             0            13.0  United-States         <=50K  \n",
       "2             0             0            40.0  United-States         <=50K  \n",
       "3             0             0            40.0  United-States         <=50K  \n",
       "4             0             0            40.0           Cuba         <=50K  "
      ]
     },
     "execution_count": 2,
     "metadata": {},
     "output_type": "execute_result"
    }
   ],
   "source": [
    "# File names of the four data sets\n",
    "adultDataSet_filename = os.path.join(os.getcwd(), \"data\", \"censusData.csv\")\n",
    "airbnbDataSet_filename = os.path.join(os.getcwd(), \"data\", \"airbnbListingsData.csv\")\n",
    "WHRDataSet_filename = os.path.join(os.getcwd(), \"data\", \"WHR2018Chapter2OnlineData.csv\")\n",
    "bookReviewDataSet_filename = os.path.join(os.getcwd(), \"data\", \"bookReviewsData.csv\")\n",
    "\n",
    "\n",
    "df = pd.read_csv(adultDataSet_filename)\n",
    "\n",
    "df.head()"
   ]
  },
  {
   "cell_type": "markdown",
   "metadata": {},
   "source": [
    "## Part 2: Define Your ML Problem\n",
    "\n",
    "Next you will formulate your ML Problem. In the markdown cell below, answer the following questions:\n",
    "\n",
    "1. List the data set you have chosen.\n",
    "2. What will you be predicting? What is the label?\n",
    "3. Is this a supervised or unsupervised learning problem? Is this a clustering, classification or regression problem? Is it a binary classificaiton or multi-class classifiction problem?\n",
    "4. What are your features? (note: this list may change after your explore your data)\n",
    "5. Explain why this is an important problem. In other words, how would a company create value with a model that predicts this label?"
   ]
  },
  {
   "cell_type": "markdown",
   "metadata": {},
   "source": [
    "1. I have chosen the adult data set to work with.\n",
    "2. I will be predicting whether or not an individual earns more than 50K/year given their demographic information and other characteristics.\n",
    "3. This will be a binary classification problem since it is a YES or NO answer to earning more than 50K/year.\n",
    "4. My features are age, education, occupation, sex, and martial status.\n",
    "5. This is an important problem with real business value because it can help companies determine whether or not an individual has the financial capability and earn enough money to handle mortgage, evaluate credit scorings, or detect frauds.\n"
   ]
  },
  {
   "cell_type": "markdown",
   "metadata": {},
   "source": [
    "## Part 3: Understand Your Data\n",
    "\n",
    "The next step is to perform exploratory data analysis. Inspect and analyze your data set with your machine learning problem in mind. Consider the following as you inspect your data:\n",
    "\n",
    "1. What data preparation techniques would you like to use? These data preparation techniques may include:\n",
    "\n",
    "    * addressing missingness, such as replacing missing values with means\n",
    "    * finding and replacing outliers\n",
    "    * renaming features and labels\n",
    "    * finding and replacing outliers\n",
    "    * performing feature engineering techniques such as one-hot encoding on categorical features\n",
    "    * selecting appropriate features and removing irrelevant features\n",
    "    * performing specific data cleaning and preprocessing techniques for an NLP problem\n",
    "    * addressing class imbalance in your data sample to promote fair AI\n",
    "    \n",
    "\n",
    "2. What machine learning model (or models) you would like to use that is suitable for your predictive problem and data?\n",
    "    * Are there other data preparation techniques that you will need to apply to build a balanced modeling data set for your problem and model? For example, will you need to scale your data?\n",
    " \n",
    " \n",
    "3. How will you evaluate and improve the model's performance?\n",
    "    * Are there specific evaluation metrics and methods that are appropriate for your model?\n",
    "    \n",
    "\n",
    "Think of the different techniques you have used to inspect and analyze your data in this course. These include using Pandas to apply data filters, using the Pandas `describe()` method to get insight into key statistics for each column, using the Pandas `dtypes` property to inspect the data type of each column, and using Matplotlib and Seaborn to detect outliers and visualize relationships between features and labels. If you are working on a classification problem, use techniques you have learned to determine if there is class imbalance.\n",
    "\n",
    "<b>Task</b>: Use the techniques you have learned in this course to inspect and analyze your data. You can import additional packages that you have used in this course that you will need to perform this task.\n",
    "\n",
    "<b>Note</b>: You can add code cells if needed by going to the <b>Insert</b> menu and clicking on <b>Insert Cell Below</b> in the drop-drown menu."
   ]
  },
  {
   "cell_type": "code",
   "execution_count": 3,
   "metadata": {},
   "outputs": [
    {
     "name": "stdout",
     "output_type": "stream",
     "text": [
      "Total rows:  32561\n",
      "missing_values:\n",
      " age                162\n",
      "workclass         1836\n",
      "fnlwgt               0\n",
      "education            0\n",
      "education-num        0\n",
      "marital-status       0\n",
      "occupation        1843\n",
      "relationship         0\n",
      "race                 0\n",
      "sex_selfID           0\n",
      "capital-gain         0\n",
      "capital-loss         0\n",
      "hours-per-week     325\n",
      "native-country     583\n",
      "income_binary        0\n",
      "dtype: int64\n",
      "updated_missing_values:\n",
      " age               0\n",
      "workclass         0\n",
      "fnlwgt            0\n",
      "education         0\n",
      "education-num     0\n",
      "marital-status    0\n",
      "occupation        0\n",
      "relationship      0\n",
      "race              0\n",
      "sex_selfID        0\n",
      "capital-gain      0\n",
      "capital-loss      0\n",
      "hours-per-week    0\n",
      "native-country    0\n",
      "income_binary     0\n",
      "dtype: int64\n",
      "\n",
      "--------------Final columns and rows--------------\n",
      "Number of Features:  6\n",
      "Feature Names:  Index(['age', 'education', 'occupation', 'sex_selfID', 'marital-status',\n",
      "       'income_binary'],\n",
      "      dtype='object')\n",
      "Number of Examples:  29694\n"
     ]
    }
   ],
   "source": [
    "# YOUR CODE HERE\n",
    "print(\"Total rows: \", df.shape[0])\n",
    "\n",
    "# First handle missing values -- delete them\n",
    "missing_values = df.isna().sum()\n",
    "print(\"missing_values:\\n\", missing_values)\n",
    "clean_df = df.dropna()\n",
    "\n",
    "updated_missing_values = clean_df.isna().sum()\n",
    "print(\"updated_missing_values:\\n\", updated_missing_values)\n",
    "\n",
    "# Remove any duplicate rows\n",
    "no_dup_df = clean_df.drop_duplicates()\n",
    "\n",
    "# Select relevant columns and remove irrelevant columns\n",
    "selected_columns = ['age', 'education', 'occupation', 'sex_selfID', 'marital-status', 'income_binary']\n",
    "final_df = no_dup_df[selected_columns]\n",
    "\n",
    "# Define target feature and features\n",
    "X = final_df[selected_columns]\n",
    "y = final_df['income_binary']\n",
    "\n",
    "print(\"\\n--------------Final columns and rows--------------\")\n",
    "print(\"Number of Features: \", final_df.shape[1])\n",
    "print(\"Feature Names: \", final_df.columns)\n",
    "print(\"Number of Examples: \", final_df.shape[0])"
   ]
  },
  {
   "cell_type": "markdown",
   "metadata": {},
   "source": [
    "## Part 4: Define Your Project Plan\n",
    "\n",
    "Now that you understand your data, in the markdown cell below, define your plan to implement the remaining phases of the machine learning life cycle (data preparation, modeling, evaluation) to solve your ML problem. Answer the following questions:\n",
    "\n",
    "* Do you have a new feature list? If so, what are the features that you chose to keep and remove after inspecting the data? \n",
    "* Explain different data preparation techniques that you will use to prepare your data for modeling.\n",
    "* What is your model (or models)?\n",
    "* Describe your plan to train your model, analyze its performance and then improve the model. That is, describe your model building, validation and selection plan to produce a model that generalizes well to new data. "
   ]
  },
  {
   "cell_type": "markdown",
   "metadata": {},
   "source": [
    "1. Yes, I decided narrow down to some specific certain features that I thought were more relevant. The features include: 'age', 'education', 'occupation', 'sex_selfID', 'marital-status', and 'income_binary'.\n",
    "2. The data preparation techniques I used include handling missing values, removing duplicate values, and feature selecting by choosing only relevant features and dropping irrelevant features. Then, I will split the data into training and testing sets to further use in model training.\n",
    "3. The model that I will use for binary classification is Logistic Regression.\n",
    "4. To train my model, I will use grid search to determine which hyperparamters result in the best model performance. Then, after training the model, I will evaluate the model's performance by printing its confusion matrix, graphs, and its log loss, accuracy, and F1-score."
   ]
  },
  {
   "cell_type": "markdown",
   "metadata": {},
   "source": [
    "## Part 5: Implement Your Project Plan\n",
    "\n",
    "<b>Task:</b> In the code cell below, import additional packages that you have used in this course that you will need to implement your project plan."
   ]
  },
  {
   "cell_type": "markdown",
   "metadata": {},
   "source": [
    "<b>Task:</b> Use the rest of this notebook to carry out your project plan. \n",
    "\n",
    "You will:\n",
    "\n",
    "1. Prepare your data for your model.\n",
    "2. Fit your model to the training data and evaluate your model.\n",
    "3. Improve your model's performance by performing model selection and/or feature selection techniques to find best model for your problem.\n",
    "\n",
    "Add code cells below and populate the notebook with commentary, code, analyses, results, and figures as you see fit. "
   ]
  },
  {
   "cell_type": "code",
   "execution_count": 5,
   "metadata": {},
   "outputs": [
    {
     "name": "stdout",
     "output_type": "stream",
     "text": [
      "(23755, 6)\n",
      "(5939, 6)\n"
     ]
    }
   ],
   "source": [
    "# YOUR CODE HERE\n",
    "# Split the data accordingly\n",
    "X_train, X_test, y_train, y_test = train_test_split(X, y, test_size=0.2, random_state=42)\n",
    "\n",
    "categorical = ['education', 'occupation', 'sex_selfID', 'marital-status']\n",
    "numerical = ['age']\n",
    "\n",
    "# Convert categorical features into numerical values\n",
    "cat_transformer = OneHotEncoder(handle_unknown='ignore')\n",
    "num_transformer = StandardScaler() # Standardize the numerical feature\n",
    "\n",
    "preprocessor = ColumnTransformer(transformers=[\n",
    "    ('num', num_transformer, numerical), \n",
    "    ('cat', cat_transformer, categorical)\n",
    "])\n",
    "\n",
    "print(X_train.shape)\n",
    "print(X_test.shape)"
   ]
  },
  {
   "cell_type": "code",
   "execution_count": 6,
   "metadata": {},
   "outputs": [],
   "source": [
    "# Create LogisticRegression class to train and evaluate model\n",
    "def train_test_LogisticRegression(X_train, X_test, y_train, y_test, c=1):\n",
    "    # model = LogisticRegression(C=c)\n",
    "    # model.fit(X_train, y_train)\n",
    "\n",
    "    # Created to chain the preprocessing steps + used to fit model and make predictions\n",
    "    pipeline = Pipeline(steps=[\n",
    "        ('preprocessor', preprocessor),\n",
    "        ('classifier', LogisticRegression(C=c))\n",
    "    ])\n",
    "    pipeline.fit(X_train, y_train)\n",
    "    \n",
    "    predictions = pipeline.predict_proba(X_test)\n",
    "    log_loss_val = log_loss(y_test, predictions)\n",
    "    class_label_predictions = pipeline.predict(X_test)\n",
    "    accuracy_score_val = accuracy_score(y_test, class_label_predictions)\n",
    "    f1_score_val = f1_score(y_test, class_label_predictions, average='macro')\n",
    "    cm = confusion_matrix(y_test, class_label_predictions)\n",
    "    \n",
    "    return log_loss_val, accuracy_score_val, f1_score_val, cm\n",
    "    "
   ]
  },
  {
   "cell_type": "code",
   "execution_count": 7,
   "metadata": {},
   "outputs": [
    {
     "name": "stdout",
     "output_type": "stream",
     "text": [
      "Log Loss = 0.36378582596257547\n",
      "Accuracy = 0.831116349553797\n",
      "F1 Score = 0.7524451725263299\n",
      "Confusion Matrix: \n",
      " [[4142  343]\n",
      " [ 660  794]]\n"
     ]
    }
   ],
   "source": [
    "# Train model and evaluate resulting metrics\n",
    "loss, accuracy, f1, conf_matrix = train_test_LogisticRegression(X_train, X_test, y_train, y_test)\n",
    "print(\"Log Loss = \" + str(loss))\n",
    "print(\"Accuracy = \" + str(accuracy))\n",
    "print(\"F1 Score = \" + str(f1))\n",
    "print(\"Confusion Matrix: \\n\", conf_matrix)"
   ]
  },
  {
   "cell_type": "code",
   "execution_count": 8,
   "metadata": {},
   "outputs": [
    {
     "data": {
      "image/png": "[encoded data removed]",
      "text/plain": [
       "<Figure size 640x480 with 2 Axes>"
      ]
     },
     "metadata": {},
     "output_type": "display_data"
    }
   ],
   "source": [
    "cm_graph = ConfusionMatrixDisplay(confusion_matrix=conf_matrix, display_labels=range(conf_matrix.shape[0]))\n",
    "cm_graph.plot(cmap='Reds', values_format='d')\n",
    "plt.title('Confusion Matrix For First Approach')\n",
    "plt.show()"
   ]
  },
  {
   "cell_type": "markdown",
   "metadata": {},
   "source": [
    "Given the performance metrics above, the log loss is 0.36, which is a low value. This indicates the model is performing pretty well. The accuracy is 83%, which is an average percentage score. An F1-score of 0.75 is pretty good since it is close to 1.0 as it indicates a good balance between precision and recall.\n",
    "\n",
    "Although the initial metrics are not bad, I will use GridSearch to find the best hyperparameters that will result in even better performance metrics."
   ]
  },
  {
   "cell_type": "code",
   "execution_count": 9,
   "metadata": {},
   "outputs": [],
   "source": [
    "from sklearn.model_selection import GridSearchCV\n",
    "# Define the function to train and test Logistic Regression with GridSearch\n",
    "def train_test_LogisticRegression_GS(X_train, X_test, y_train, y_test):\n",
    "  # Created to chain the preprocessing steps + used to fit model and make predictions\n",
    "    pipeline = Pipeline(steps=[\n",
    "        ('preprocessor', preprocessor),\n",
    "        ('classifier', LogisticRegression())\n",
    "    ])\n",
    "    pipeline.fit(X_train, y_train)\n",
    "\n",
    "    # Create param grid for GridSearchCV\n",
    "    param_grid = {\n",
    "        'classifier__C': [0.001, 0.01, 0.1, 1, 10, 100],         # strength of regularization --> small C = stronger/simple, large C = weaker/complex\n",
    "        'classifier__max_iter': [100, 150, 200, 300, 400, 500],  # max num of iterations taken to converge\n",
    "        'classifier__solver': ['liblinear', 'lbfgs']        \n",
    "    }\n",
    "\n",
    "    grid_search = GridSearchCV(pipeline, param_grid, cv=5, scoring='accuracy')\n",
    "    grid_search.fit(X_train, y_train)\n",
    "\n",
    "    best_model = grid_search.best_estimator_\n",
    "\n",
    "    predictions = best_model.predict_proba(X_test)\n",
    "    log_loss_val = log_loss(y_test, predictions)\n",
    "    class_label_predictions = best_model.predict(X_test)\n",
    "    accuracy_score_val = accuracy_score(y_test, class_label_predictions)\n",
    "    f1_score_val = f1_score(y_test, class_label_predictions, average='macro')\n",
    "    cm = confusion_matrix(y_test, class_label_predictions)\n",
    "    \n",
    "    return grid_search, log_loss_val, accuracy_score_val, f1_score_val, cm"
   ]
  },
  {
   "cell_type": "code",
   "execution_count": 10,
   "metadata": {},
   "outputs": [
    {
     "name": "stdout",
     "output_type": "stream",
     "text": [
      "Log Loss = 0.36398719799918583\n",
      "Accuracy = 0.8307795925239939\n",
      "F1 Score = 0.7527756176006744\n",
      "Confusion Matrix: \n",
      " [[4135  350]\n",
      " [ 655  799]]\n",
      "Best Parameters: \n",
      " {'classifier__C': 10, 'classifier__max_iter': 100, 'classifier__solver': 'lbfgs'}\n",
      "Best Score: \n",
      " 0.8226478636076615\n"
     ]
    }
   ],
   "source": [
    "# Train model and evaluate resulting metrics\n",
    "gs, loss_gs, accuracy_gs, f1_gs, conf_matrix_gs = train_test_LogisticRegression_GS(X_train, X_test, y_train, y_test)\n",
    "print(\"Log Loss = \" + str(loss_gs))\n",
    "print(\"Accuracy = \" + str(accuracy_gs))\n",
    "print(\"F1 Score = \" + str(f1_gs))\n",
    "print(\"Confusion Matrix: \\n\", conf_matrix_gs)\n",
    "print(\"Best Parameters: \\n\", gs.best_params_)\n",
    "print(\"Best Score: \\n\", gs.best_score_)"
   ]
  },
  {
   "cell_type": "code",
   "execution_count": 11,
   "metadata": {},
   "outputs": [
    {
     "data": {
      "image/png": "[encoded data removed]",
      "text/plain": [
       "<Figure size 640x480 with 1 Axes>"
      ]
     },
     "metadata": {},
     "output_type": "display_data"
    }
   ],
   "source": [
    "# Accuracy vs C values\n",
    "results = gs.cv_results_\n",
    "\n",
    "# Extract F1 Scores and corresponding values of C\n",
    "accuracy_scores = results['mean_test_score']\n",
    "C_values = [params['classifier__C'] for params in results['params']]\n",
    "\n",
    "plt.plot(C_values, accuracy_scores, marker='o', linestyle='-', color='b')\n",
    "plt.xlabel('Regularization Parameter (C)')\n",
    "plt.ylabel('Accuracy')\n",
    "plt.title('Accuracy vs. Regularization Parameter (C) for Different Solvers')\n",
    "plt.show()"
   ]
  },
  {
   "cell_type": "code",
   "execution_count": 12,
   "metadata": {},
   "outputs": [
    {
     "data": {
      "image/png": "[encoded data removed]",
      "text/plain": [
       "<Figure size 640x480 with 2 Axes>"
      ]
     },
     "metadata": {},
     "output_type": "display_data"
    }
   ],
   "source": [
    "cm_graph_gs = ConfusionMatrixDisplay(confusion_matrix=conf_matrix_gs, display_labels=range(conf_matrix_gs.shape[0]))\n",
    "cm_graph_gs.plot(cmap='Blues', values_format='d')\n",
    "plt.title('Confusion Matrix For Second Approach')\n",
    "plt.show()"
   ]
  },
  {
   "cell_type": "markdown",
   "metadata": {},
   "source": [
    "Given the above performance metrics of the first and second approach, it can be seen that both approaches have minimal difference in its performance. Although it is true that both approaches perform quite similarly in terms of log loss, accuracy, as well as the confusion matrix, Approach 2 has a better F1-score. This means the second approach does slightly better at balancing precision and recall.  \n",
    "\n",
    "In addition, Approach 2 fewer false negatives (655 vs 660). And given the optimal paramters of {'classifier__C': 10, 'classifier__max_iter': 100, 'classifier__solver': 'lbfgs'}. The optimal parameters found in grid search indicates that a high regularization parameter of C=10 is best and that the 'lbfgs' solver, which is usually used for larger datasets, produces the best metrics. Futhermore, cross validated best score of 0.8226 this indicates that the second model would be more efficient and effective by providing better generalization overall. Ultimately, though both approaches are similar, Approach 2 is marginally better due to its performance across all key metrics and its optimal parameters identified in grid search."
   ]
  }
 ],
 "metadata": {
  "kernelspec": {
   "display_name": "Python 3 (ipykernel)",
   "language": "python",
   "name": "python3"
  },
  "language_info": {
   "codemirror_mode": {
    "name": "ipython",
    "version": 3
   },
   "file_extension": ".py",
   "mimetype": "text/x-python",
   "name": "python",
   "nbconvert_exporter": "python",
   "pygments_lexer": "ipython3",
   "version": "3.9.19"
  },
  "toc": {
   "base_numbering": 1,
   "nav_menu": {},
   "number_sections": false,
   "sideBar": true,
   "skip_h1_title": false,
   "title_cell": "Table of Contents",
   "title_sidebar": "Contents",
   "toc_cell": false,
   "toc_position": {},
   "toc_section_display": true,
   "toc_window_display": false
  },
  "varInspector": {
   "cols": {
    "lenName": 16,
    "lenType": 16,
    "lenVar": 40
   },
   "kernels_config": {
    "python": {
     "delete_cmd_postfix": "",
     "delete_cmd_prefix": "del ",
     "library": "var_list.py",
     "varRefreshCmd": "print(var_dic_list())"
    },
    "r": {
     "delete_cmd_postfix": ") ",
     "delete_cmd_prefix": "rm(",
     "library": "var_list.r",
     "varRefreshCmd": "cat(var_dic_list()) "
    }
   },
   "types_to_exclude": [
    "module",
    "function",
    "builtin_function_or_method",
    "instance",
    "_Feature"
   ],
   "window_display": false
  }
 },
 "nbformat": 4,
 "nbformat_minor": 4
}
